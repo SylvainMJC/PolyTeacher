{
 "cells": [
  {
   "cell_type": "code",
   "execution_count": 10,
   "metadata": {},
   "outputs": [
    {
     "name": "stdout",
     "output_type": "stream",
     "text": [
      "Ceci est un test de traduction ! Alors, ça marche ?\n",
      "\n",
      "\n",
      "This is a translation test! So, does it work?\n",
      "\n",
      "¡Esto es una prueba de traducción! ¿Entonces, funciona?\n",
      "\n"
     ]
    }
   ],
   "source": [
    "\n",
    "import google.generativeai as genai\n",
    "from dotenv import load_dotenv\n",
    "import os\n",
    "\n",
    "load_dotenv()\n",
    "\n",
    "def trad(source_text, source_language, target_language):\n",
    "    genai.configure(api_key= os.getenv(\"GOOGLE_API_KEY\"))\n",
    "    model = genai.GenerativeModel(\"gemini-1.5-flash\")\n",
    "    prompt = f'Traduis \"{source_text}\" en {target_language}. La réponse ne doit contenir que la traduction.'\n",
    "    response = model.generate_content(prompt)\n",
    "    return response.text\n",
    "\n",
    "\n",
    "\n",
    "test = \"Ceci est un test de traduction ! Alors, ça marche ?\"\n",
    "print(test)\n",
    "print('\\n')\n",
    "print(trad(test, 'Français', 'Anglais'))\n",
    "print(trad(test, 'Français', 'Espagnol'))"
   ]
  }
 ],
 "metadata": {
  "kernelspec": {
   "display_name": "Python 3",
   "language": "python",
   "name": "python3"
  },
  "language_info": {
   "codemirror_mode": {
    "name": "ipython",
    "version": 3
   },
   "file_extension": ".py",
   "mimetype": "text/x-python",
   "name": "python",
   "nbconvert_exporter": "python",
   "pygments_lexer": "ipython3",
   "version": "3.13.0"
  }
 },
 "nbformat": 4,
 "nbformat_minor": 2
}
